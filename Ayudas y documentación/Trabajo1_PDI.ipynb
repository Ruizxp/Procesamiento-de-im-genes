{
 "cells": [
  {
   "cell_type": "markdown",
   "metadata": {},
   "source": [
    "<p align=\"center\"><img alt=\"udeA logo\" height=\"150px\" src=\"https://github.com/freddyduitama/images/blob/master/logo.png?raw=true\"></p><h1><font color='0B5345'> <center>\n",
    "\n",
    "Procesamiento digital de imágenes\n",
    "\n",
    " </center></font></h1>\n",
    "<h2><font color='0B5345'> <center>\n",
    "Primer taller: Manipulación de archivos y visualización</center></font></h2>\n",
    "<font  face=\"Courier New\" size=\"3\">\n",
    "\n",
    "<p3><center><b><font color='0B5345' face=\"Lucida Calligraphy,Comic Sans MS,Lucida Console\" size=\"5\">Universidad de Antioquia - Bioingeniería</font></b> </center></p3>\n",
    "\n",
    "<h3><font color='0B5345'> <center>\n",
    "Isabella Ariza Cuberos</center></font></h3>\n",
    "<font  face=\"Courier New\" size=\"3\">"
   ]
  },
  {
   "cell_type": "markdown",
   "metadata": {},
   "source": [
    "**Carga y visualización de Imágenes Médicas**\n",
    "\n",
    "**Descripción:**\n",
    "\n",
    "Este proyecto tiene como objetivo desarrollar un flujo para la carga y visalización de imágenes médicas en formato DICOM y NIfTI. La aplicación realizará las siguientes tareas:\n",
    "\n",
    "1. **Cargar y Mostrar Información de Imágenes DICOM:** (30%)\n",
    "   - Cargar imágenes médicas en formato DICOM desde una carpeta especificada.\n",
    "   - Mostrará la información relevante de cada imagen, incluyendo el nombre del paciente, modalidad, descripción del estudio y fecha de adquisición en formato día, mes y año.\n",
    "\n",
    "\n",
    "2. **Anonimización de Datos Sensibles:** (40%)\n",
    "   - Seleccionar al menos cuatro datos sensibles (por ejemplo, nombre del paciente, ID, fecha de nacimiento, etc.) que serán anonimizados.\n",
    "   - Se implementará un proceso de anonimización para todos los datos seleccionados en todas las imágenes de la carpeta.\n",
    "   - Las nuevas imágenes anonimizadas se guardarán en una carpeta designada.\n",
    "\n",
    "3. **Visualización de Imágenes NIfTI:** (20%)\n",
    "   - Cargar y visualizar una imagen en formato NIfTI, si la tiene en formato dicom la deberá convertir con dcm2nifti.\n",
    "   - Se debe visualizar la imagen en los tres planos (axial, sagital, coronal) o en un plano específico.\n",
    "4. **Presentación y estructura:** (10%)\n",
    "   - Orden en el código\n",
    "   - Implementar el uso de estructuras de control cíclicas\n",
    "   - Tenga en cuenta que cada media hora de retraso, se penalizará con un 0.5 en la nota final\n",
    "\n",
    "**Entregables:**\n",
    "- Código fuente del programa en Python."
   ]
  }
 ],
 "metadata": {
  "language_info": {
   "name": "python"
  }
 },
 "nbformat": 4,
 "nbformat_minor": 2
}
