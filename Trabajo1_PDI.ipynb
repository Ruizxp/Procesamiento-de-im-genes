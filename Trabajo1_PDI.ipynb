{
 "cells": [
  {
   "cell_type": "markdown",
   "metadata": {},
   "source": [
    "<p align=\"center\"><img alt=\"udeA logo\" height=\"150px\" src=\"https://github.com/freddyduitama/images/blob/master/logo.png?raw=true\"></p><h1><font color='0B5345'> <center>\n",
    "\n",
    "Procesamiento digital de imágenes\n",
    "\n",
    " </center></font></h1>\n",
    "<h2><font color='0B5345'> <center>\n",
    "Primer taller: Manipulación de archivos y visualización</center></font></h2>\n",
    "<font  face=\"Courier New\" size=\"3\">\n",
    "\n",
    "<p3><center><b><font color='0B5345' face=\"Lucida Calligraphy,Comic Sans MS,Lucida Console\" size=\"5\">Universidad de Antioquia - Bioingeniería</font></b> </center></p3>\n",
    "\n",
    "<h3><font color='0B5345'> <center>\n",
    "Paola Andrea Dávila,\n",
    "Juliana Lucía Moreno,\n",
    "Andrés Ruiz Trujillo</center></font></h3>\n",
    "<font  face=\"Courier New\" size=\"3\">"
   ]
  },
  {
   "cell_type": "markdown",
   "metadata": {},
   "source": [
    "**Carga y visualización de Imágenes Médicas**\n",
    "\n",
    "**Descripción:**\n",
    "\n",
    "Este proyecto tiene como objetivo desarrollar un flujo para la carga y visalización de imágenes médicas en formato DICOM y NIfTI. La aplicación realizará las siguientes tareas:\n"
   ]
  },
  {
   "cell_type": "markdown",
   "metadata": {},
   "source": [
    "1. **Cargar y Mostrar Información de Imágenes DICOM:**\n",
    "   - Cargar imágenes médicas en formato DICOM desde una carpeta especificada.\n",
    "   - Mostrará la información relevante de cada imagen, incluyendo el nombre del paciente, modalidad, descripción del estudio y fecha de adquisición en formato día, mes y año."
   ]
  },
  {
   "cell_type": "code",
   "execution_count": 1,
   "metadata": {},
   "outputs": [],
   "source": [
    "import pydicom\n",
    "import matplotlib.pyplot as plt\n",
    "import os\n",
    "from pydicom.data import get_testdata_file\n",
    "from pydicom import dcmread\n",
    "import pandas as pd\n",
    "from datetime import datetime"
   ]
  },
  {
   "cell_type": "code",
   "execution_count": 4,
   "metadata": {},
   "outputs": [
    {
     "name": "stdout",
     "output_type": "stream",
     "text": [
      "(0010, 0010) Patient's Name                      PN: 'CN_0234'\n",
      "(0008, 0060) Modality                            CS: 'MR'\n",
      "(0008, 1030) Study Description                   LO: 'BRAIN MRI'\n",
      "24/10/2022\n",
      "CN_0234\n"
     ]
    }
   ],
   "source": [
    "dcm_data = pydicom.dcmread(r'Data\\IMG0020.dcm') #Todos las imagenes tienen el mismo nombre de paciente\n",
    "print(dcm_data[0x0010 , 0x0010])\n",
    "print(dcm_data[0x0008, 0x0060])\n",
    "print(dcm_data[0x0008, 0x1030])\n",
    "\n",
    "\n",
    "fecha_cadena = dcm_data[0x0008, 0x0020].value\n",
    "# Convertir la cadena a objeto datetime\n",
    "fecha_datetime = datetime.strptime(fecha_cadena, '%Y%m%d')\n",
    "\n",
    "# Formatear la fecha como día/mes/año\n",
    "fecha_formateada = fecha_datetime.strftime('%d/%m/%Y')\n",
    "\n",
    "# Imprimir la fecha formateada\n",
    "print(fecha_formateada)\n",
    "print(dcm_data[0x0010 , 0x0010].value)\n"
   ]
  },
  {
   "cell_type": "code",
   "execution_count": 6,
   "metadata": {},
   "outputs": [],
   "source": [
    "#Leer un archivo dicom\n",
    "matriz_img = []\n",
    "ruta_carpeta= './Data'\n",
    "arch_dicom = os.listdir(ruta_carpeta)\n",
    "\n",
    "for archivo in arch_dicom:\n",
    "\n",
    "    dcm_data = pydicom.dcmread(os.path.join(ruta_carpeta, archivo))\n",
    "    matriz_img.append(dcm_data)"
   ]
  },
  {
   "cell_type": "code",
   "execution_count": 7,
   "metadata": {},
   "outputs": [],
   "source": [
    "names = ['Nombre','Modalidad','Descripcion estudio','Fecha Adquisicion']\n",
    "df=pd.DataFrame(columns=names)\n",
    "contador=1\n",
    "\n",
    "for p in matriz_img:\n",
    "    nombre = p[0x0010 , 0x0010].value\n",
    "    df.at[contador,'Nombre'] = str(nombre)\n",
    "\n",
    "    modalidad = p[0x0008 , 0x0060].value\n",
    "    df.at[contador,'Modalidad'] = modalidad\n",
    "\n",
    "    estudio = p[0x0008 , 0x1030].value\n",
    "    df.at[contador,'Descripcion estudio'] = estudio\n",
    "    \n",
    "    fecha_cadena = p[0x0008, 0x0020].value\n",
    "    fecha_datetime = datetime.strptime(fecha_cadena, '%Y%m%d')\n",
    "    fecha_formateada = fecha_datetime.strftime('%d/%m/%Y')\n",
    "\n",
    "    df.at[contador,'Fecha Adquisicion'] = fecha_formateada\n",
    "\n",
    "    contador+=1\n",
    "\n"
   ]
  },
  {
   "cell_type": "code",
   "execution_count": 8,
   "metadata": {},
   "outputs": [
    {
     "data": {
      "text/html": [
       "<div>\n",
       "<style scoped>\n",
       "    .dataframe tbody tr th:only-of-type {\n",
       "        vertical-align: middle;\n",
       "    }\n",
       "\n",
       "    .dataframe tbody tr th {\n",
       "        vertical-align: top;\n",
       "    }\n",
       "\n",
       "    .dataframe thead th {\n",
       "        text-align: right;\n",
       "    }\n",
       "</style>\n",
       "<table border=\"1\" class=\"dataframe\">\n",
       "  <thead>\n",
       "    <tr style=\"text-align: right;\">\n",
       "      <th></th>\n",
       "      <th>Nombre</th>\n",
       "      <th>Modalidad</th>\n",
       "      <th>Descripcion estudio</th>\n",
       "      <th>Fecha Adquisicion</th>\n",
       "    </tr>\n",
       "  </thead>\n",
       "  <tbody>\n",
       "    <tr>\n",
       "      <th>1</th>\n",
       "      <td>CN_0234</td>\n",
       "      <td>MR</td>\n",
       "      <td>BRAIN MRI</td>\n",
       "      <td>24/10/2022</td>\n",
       "    </tr>\n",
       "    <tr>\n",
       "      <th>2</th>\n",
       "      <td>CN_0234</td>\n",
       "      <td>MR</td>\n",
       "      <td>BRAIN MRI</td>\n",
       "      <td>24/10/2022</td>\n",
       "    </tr>\n",
       "    <tr>\n",
       "      <th>3</th>\n",
       "      <td>CN_0234</td>\n",
       "      <td>MR</td>\n",
       "      <td>BRAIN MRI</td>\n",
       "      <td>24/10/2022</td>\n",
       "    </tr>\n",
       "    <tr>\n",
       "      <th>4</th>\n",
       "      <td>CN_0234</td>\n",
       "      <td>MR</td>\n",
       "      <td>BRAIN MRI</td>\n",
       "      <td>24/10/2022</td>\n",
       "    </tr>\n",
       "    <tr>\n",
       "      <th>5</th>\n",
       "      <td>CN_0234</td>\n",
       "      <td>MR</td>\n",
       "      <td>BRAIN MRI</td>\n",
       "      <td>24/10/2022</td>\n",
       "    </tr>\n",
       "    <tr>\n",
       "      <th>...</th>\n",
       "      <td>...</td>\n",
       "      <td>...</td>\n",
       "      <td>...</td>\n",
       "      <td>...</td>\n",
       "    </tr>\n",
       "    <tr>\n",
       "      <th>239</th>\n",
       "      <td>CN_0234</td>\n",
       "      <td>MR</td>\n",
       "      <td>BRAIN MRI</td>\n",
       "      <td>24/10/2022</td>\n",
       "    </tr>\n",
       "    <tr>\n",
       "      <th>240</th>\n",
       "      <td>CN_0234</td>\n",
       "      <td>MR</td>\n",
       "      <td>BRAIN MRI</td>\n",
       "      <td>24/10/2022</td>\n",
       "    </tr>\n",
       "    <tr>\n",
       "      <th>241</th>\n",
       "      <td>CN_0234</td>\n",
       "      <td>MR</td>\n",
       "      <td>BRAIN MRI</td>\n",
       "      <td>24/10/2022</td>\n",
       "    </tr>\n",
       "    <tr>\n",
       "      <th>242</th>\n",
       "      <td>CN_0234</td>\n",
       "      <td>MR</td>\n",
       "      <td>BRAIN MRI</td>\n",
       "      <td>24/10/2022</td>\n",
       "    </tr>\n",
       "    <tr>\n",
       "      <th>243</th>\n",
       "      <td>CN_0234</td>\n",
       "      <td>MR</td>\n",
       "      <td>BRAIN MRI</td>\n",
       "      <td>24/10/2022</td>\n",
       "    </tr>\n",
       "  </tbody>\n",
       "</table>\n",
       "<p>243 rows × 4 columns</p>\n",
       "</div>"
      ],
      "text/plain": [
       "      Nombre Modalidad Descripcion estudio Fecha Adquisicion\n",
       "1    CN_0234        MR           BRAIN MRI        24/10/2022\n",
       "2    CN_0234        MR           BRAIN MRI        24/10/2022\n",
       "3    CN_0234        MR           BRAIN MRI        24/10/2022\n",
       "4    CN_0234        MR           BRAIN MRI        24/10/2022\n",
       "5    CN_0234        MR           BRAIN MRI        24/10/2022\n",
       "..       ...       ...                 ...               ...\n",
       "239  CN_0234        MR           BRAIN MRI        24/10/2022\n",
       "240  CN_0234        MR           BRAIN MRI        24/10/2022\n",
       "241  CN_0234        MR           BRAIN MRI        24/10/2022\n",
       "242  CN_0234        MR           BRAIN MRI        24/10/2022\n",
       "243  CN_0234        MR           BRAIN MRI        24/10/2022\n",
       "\n",
       "[243 rows x 4 columns]"
      ]
     },
     "execution_count": 8,
     "metadata": {},
     "output_type": "execute_result"
    }
   ],
   "source": [
    "df"
   ]
  },
  {
   "cell_type": "markdown",
   "metadata": {},
   "source": [
    "2. **Anonimización de Datos Sensibles:**\n",
    "   - Seleccionar al menos cuatro datos sensibles (por ejemplo, nombre del paciente, ID, fecha de nacimiento, etc.) que serán anonimizados.\n",
    "   - Se implementará un proceso de anonimización para todos los datos seleccionados en todas las imágenes de la carpeta.\n",
    "   - Las nuevas imágenes anonimizadas se guardarán en una carpeta designada.\n",
    "\n",
    "   https://support.qmenta.com/knowledge/what-is-dicom-anonymization\n",
    "   \n",
    "   Se escogen 4 datos de la lista encontrada en la página anterior y se identifican para anonimizar en las diferentes imágenes"
   ]
  },
  {
   "cell_type": "code",
   "execution_count": 13,
   "metadata": {},
   "outputs": [
    {
     "data": {
      "text/plain": [
       "(0010, 0010) Patient's Name                      PN: 'CN_0234'\n",
       "(0010, 0020) Patient ID                          LO: '1234567890'\n",
       "(0010, 0030) Patient's Birth Date                DA: '19990329'\n",
       "(0010, 0040) Patient's Sex                       CS: 'M'"
      ]
     },
     "execution_count": 13,
     "metadata": {},
     "output_type": "execute_result"
    }
   ],
   "source": [
    "dcm_data.group_dataset(0x0010)"
   ]
  },
  {
   "cell_type": "code",
   "execution_count": 14,
   "metadata": {},
   "outputs": [
    {
     "data": {
      "text/plain": [
       "(0020, 000d) Study Instance UID                  UI: 1.2.826.0.1.3680043.8.498.20315836589392477186329609940459762586\n",
       "(0020, 000e) Series Instance UID                 UI: 1.2.826.0.1.3680043.8.498.88370686496163536554389859350453710696\n",
       "(0020, 0010) Study ID                            SH: 'SLICER10001'\n",
       "(0020, 0011) Series Number                       IS: '1'\n",
       "(0020, 0013) Instance Number                     IS: '243'\n",
       "(0020, 0032) Image Position (Patient)            DS: [-74.7006, -135.572, 98.6888]\n",
       "(0020, 0037) Image Orientation (Patient)         DS: [-.0697157, .996668, -.0423385, .0029543, -.0422353, -.999103]\n",
       "(0020, 0052) Frame of Reference UID              UI: 1.2.826.0.1.3680043.8.498.50943607912586654189863052454660908373\n",
       "(0020, 1040) Position Reference Indicator        LO: ''"
      ]
     },
     "execution_count": 14,
     "metadata": {},
     "output_type": "execute_result"
    }
   ],
   "source": [
    "dcm_data.group_dataset(0x0020)"
   ]
  },
  {
   "cell_type": "code",
   "execution_count": 17,
   "metadata": {},
   "outputs": [
    {
     "data": {
      "text/plain": [
       "(0008, 0008) Image Type                          CS: ['ORIGINAL', 'PRIMARY', 'MPR']\n",
       "(0008, 0016) SOP Class UID                       UI: MR Image Storage\n",
       "(0008, 0018) SOP Instance UID                    UI: 1.2.826.0.1.3680043.2.1125.1.93886480935790403093452362464620211\n",
       "(0008, 0020) Study Date                          DA: '20221024'\n",
       "(0008, 0021) Series Date                         DA: '20240225'\n",
       "(0008, 0023) Content Date                        DA: '20240225'\n",
       "(0008, 0030) Study Time                          TM: '095321'\n",
       "(0008, 0031) Series Time                         TM: '175217'\n",
       "(0008, 0033) Content Time                        TM: '175217'\n",
       "(0008, 0050) Accession Number                    SH: ''\n",
       "(0008, 0060) Modality                            CS: 'MR'\n",
       "(0008, 0070) Manufacturer                        LO: 'Unknown manufacturer'\n",
       "(0008, 0090) Referring Physician's Name          PN: ''\n",
       "(0008, 1030) Study Description                   LO: 'BRAIN MRI'\n",
       "(0008, 103e) Series Description                  LO: 'No series description'\n",
       "(0008, 1090) Manufacturer's Model Name           LO: 'Unknown model'"
      ]
     },
     "execution_count": 17,
     "metadata": {},
     "output_type": "execute_result"
    }
   ],
   "source": [
    "dcm_data.group_dataset(0x0008)"
   ]
  },
  {
   "cell_type": "markdown",
   "metadata": {},
   "source": [
    "Se escoge 4 datos a anonimizar:\n",
    "-  (0008, 0090) Referring Physician's Name   \n",
    "- "
   ]
  },
  {
   "cell_type": "markdown",
   "metadata": {},
   "source": [
    "3. **Visualización de Imágenes NIfTI:**\n",
    "   - Cargar y visualizar una imagen en formato NIfTI, si la tiene en formato dicom la deberá convertir con dcm2nifti.\n",
    "   - Se debe visualizar la imagen en los tres planos (axial, sagital, coronal) o en un plano específico."
   ]
  },
  {
   "cell_type": "code",
   "execution_count": null,
   "metadata": {},
   "outputs": [],
   "source": []
  },
  {
   "cell_type": "markdown",
   "metadata": {},
   "source": [
    "4. **Presentación y estructura:**\n",
    "   - Orden en el código\n",
    "   - Implementar el uso de estructuras de control cíclicas\n",
    "   - Tenga en cuenta que cada media hora de retraso, se penalizará con un 0.5 en la nota final"
   ]
  },
  {
   "cell_type": "code",
   "execution_count": null,
   "metadata": {},
   "outputs": [],
   "source": []
  }
 ],
 "metadata": {
  "kernelspec": {
   "display_name": "Python 3",
   "language": "python",
   "name": "python3"
  },
  "language_info": {
   "codemirror_mode": {
    "name": "ipython",
    "version": 3
   },
   "file_extension": ".py",
   "mimetype": "text/x-python",
   "name": "python",
   "nbconvert_exporter": "python",
   "pygments_lexer": "ipython3",
   "version": "3.10.11"
  }
 },
 "nbformat": 4,
 "nbformat_minor": 2
}
